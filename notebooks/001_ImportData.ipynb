{
 "cells": [
  {
   "cell_type": "code",
   "execution_count": 1,
   "id": "751c7928",
   "metadata": {},
   "outputs": [],
   "source": [
    "import pandas as pd\n",
    "from iertools.read import read_sql\n",
    "import matplotlib.pyplot as plt\n",
    "import seaborn as sns\n"
   ]
  },
  {
   "cell_type": "code",
   "execution_count": 2,
   "id": "097f2c4e",
   "metadata": {},
   "outputs": [],
   "source": [
    "df  = read_sql('../idf/cubo.sql',read='data')\n",
    "names = {'SOUTH:Surface Outside Face Incident Solar Radiation Rate per Area (W/m2)': 'Is'}\n",
    "df.rename(columns=names)\n",
    "df = df.data\n",
    "df.to_csv('../data/Is.csv')"
   ]
  },
  {
   "cell_type": "code",
   "execution_count": null,
   "id": "82ea7d82",
   "metadata": {},
   "outputs": [],
   "source": []
  }
 ],
 "metadata": {
  "kernelspec": {
   "display_name": "Python 3 (ipykernel)",
   "language": "python",
   "name": "python3"
  },
  "language_info": {
   "codemirror_mode": {
    "name": "ipython",
    "version": 3
   },
   "file_extension": ".py",
   "mimetype": "text/x-python",
   "name": "python",
   "nbconvert_exporter": "python",
   "pygments_lexer": "ipython3",
   "version": "3.9.10"
  }
 },
 "nbformat": 4,
 "nbformat_minor": 5
}
